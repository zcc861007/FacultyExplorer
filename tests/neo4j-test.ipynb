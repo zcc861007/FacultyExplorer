{
 "cells": [
  {
   "cell_type": "code",
   "execution_count": 2,
   "metadata": {},
   "outputs": [],
   "source": [
    "from neo4j import GraphDatabase\n",
    "import pandas as pd"
   ]
  },
  {
   "cell_type": "code",
   "execution_count": 3,
   "metadata": {},
   "outputs": [],
   "source": [
    "# URI = \"http://localhost:7474\"\n",
    "# URI = \"bolt://localhost:7687\"\n",
    "URI = \"neo4j://localhost\"\n",
    "AUTH = (\"neo4j\", \"ilovecs411\")\n",
    "\n",
    "with GraphDatabase.driver(URI, auth=AUTH) as driver:\n",
    "    driver.verify_connectivity()"
   ]
  },
  {
   "cell_type": "code",
   "execution_count": 4,
   "metadata": {},
   "outputs": [
    {
     "name": "stdout",
     "output_type": "stream",
     "text": [
      "Connection established.\n"
     ]
    }
   ],
   "source": [
    "URI = \"bolt://localhost:7687\"\n",
    "AUTH = (\"neo4j\", \"ilovecs411\")\n",
    "\n",
    "with GraphDatabase.driver(URI, auth=AUTH) as driver:\n",
    "    driver.verify_connectivity()\n",
    "    print(\"Connection established.\")"
   ]
  },
  {
   "cell_type": "code",
   "execution_count": 5,
   "metadata": {},
   "outputs": [
    {
     "data": {
      "text/plain": [
       "([],\n",
       " <neo4j._work.summary.ResultSummary at 0x7fbbb10aded0>,\n",
       " ['relationshipType'])"
      ]
     },
     "execution_count": 5,
     "metadata": {},
     "output_type": "execute_result"
    }
   ],
   "source": [
    "query = \"\"\"\n",
    "CALL db.relationshipTypes()\n",
    "\"\"\"\n",
    "driver = GraphDatabase.driver(URI, auth=AUTH)\n",
    "records, summary, keys = driver.execute_query(query)\n",
    "records, summary, keys"
   ]
  },
  {
   "cell_type": "code",
   "execution_count": 6,
   "metadata": {},
   "outputs": [],
   "source": [
    "def neo4j_query(query):\n",
    "    uri = \"bolt://localhost:7687\"\n",
    "    # uri = \"neo4j://localhost\"\n",
    "    user = \"neo4j\"\n",
    "    password = \"ilovecs411\"\n",
    "    driver = GraphDatabase.driver(uri, auth=(user, password))\n",
    "    with driver.session() as session:\n",
    "        result = session.run(query)\n",
    "        data = pd.DataFrame([dict(record) for record in result])\n",
    "    driver.close()\n",
    "    return data"
   ]
  },
  {
   "cell_type": "code",
   "execution_count": 7,
   "metadata": {},
   "outputs": [
    {
     "name": "stderr",
     "output_type": "stream",
     "text": [
      "Received notification from DBMS server: {severity: WARNING} {code: Neo.ClientNotification.Statement.UnknownLabelWarning} {category: UNRECOGNIZED} {title: The provided label is not in the database.} {description: One of the labels in your query is not available in the database, make sure you didn't misspell it or that the label is available when you run this statement in your application (the missing label name is: KEYWORD)} {position: line: 2, column: 40, offset: 40} for query: '\\nMATCH (f:FACULTY)-[:INTERESTED_IN]->(k:KEYWORD)\\nRETURN k.name AS k_name, count(f.name) AS f_count\\nORDER BY f_count DESC\\nLIMIT 10;\\n'\n",
      "Received notification from DBMS server: {severity: WARNING} {code: Neo.ClientNotification.Statement.UnknownRelationshipTypeWarning} {category: UNRECOGNIZED} {title: The provided relationship type is not in the database.} {description: One of the relationship types in your query is not available in the database, make sure you didn't misspell it or that the label is available when you run this statement in your application (the missing relationship type is: INTERESTED_IN)} {position: line: 2, column: 21, offset: 21} for query: '\\nMATCH (f:FACULTY)-[:INTERESTED_IN]->(k:KEYWORD)\\nRETURN k.name AS k_name, count(f.name) AS f_count\\nORDER BY f_count DESC\\nLIMIT 10;\\n'\n"
     ]
    },
    {
     "name": "stderr",
     "output_type": "stream",
     "text": [
      "Received notification from DBMS server: {severity: WARNING} {code: Neo.ClientNotification.Statement.UnknownPropertyKeyWarning} {category: UNRECOGNIZED} {title: The provided property key is not in the database} {description: One of the property names in your query is not available in the database, make sure you didn't misspell it or that the label is available when you run this statement in your application (the missing property name is: name)} {position: line: 3, column: 34, offset: 82} for query: '\\nMATCH (f:FACULTY)-[:INTERESTED_IN]->(k:KEYWORD)\\nRETURN k.name AS k_name, count(f.name) AS f_count\\nORDER BY f_count DESC\\nLIMIT 10;\\n'\n",
      "Received notification from DBMS server: {severity: WARNING} {code: Neo.ClientNotification.Statement.UnknownLabelWarning} {category: UNRECOGNIZED} {title: The provided label is not in the database.} {description: One of the labels in your query is not available in the database, make sure you didn't misspell it or that the label is available when you run this statement in your application (the missing label name is: FACULTY)} {position: line: 2, column: 10, offset: 10} for query: '\\nMATCH (f:FACULTY)-[:INTERESTED_IN]->(k:KEYWORD)\\nRETURN k.name AS k_name, count(f.name) AS f_count\\nORDER BY f_count DESC\\nLIMIT 10;\\n'\n",
      "Received notification from DBMS server: {severity: WARNING} {code: Neo.ClientNotification.Statement.UnknownPropertyKeyWarning} {category: UNRECOGNIZED} {title: The provided property key is not in the database} {description: One of the property names in your query is not available in the database, make sure you didn't misspell it or that the label is available when you run this statement in your application (the missing property name is: name)} {position: line: 3, column: 10, offset: 58} for query: '\\nMATCH (f:FACULTY)-[:INTERESTED_IN]->(k:KEYWORD)\\nRETURN k.name AS k_name, count(f.name) AS f_count\\nORDER BY f_count DESC\\nLIMIT 10;\\n'\n"
     ]
    },
    {
     "data": {
      "text/html": [
       "<div>\n",
       "<style scoped>\n",
       "    .dataframe tbody tr th:only-of-type {\n",
       "        vertical-align: middle;\n",
       "    }\n",
       "\n",
       "    .dataframe tbody tr th {\n",
       "        vertical-align: top;\n",
       "    }\n",
       "\n",
       "    .dataframe thead th {\n",
       "        text-align: right;\n",
       "    }\n",
       "</style>\n",
       "<table border=\"1\" class=\"dataframe\">\n",
       "  <thead>\n",
       "    <tr style=\"text-align: right;\">\n",
       "      <th></th>\n",
       "    </tr>\n",
       "  </thead>\n",
       "  <tbody>\n",
       "  </tbody>\n",
       "</table>\n",
       "</div>"
      ],
      "text/plain": [
       "Empty DataFrame\n",
       "Columns: []\n",
       "Index: []"
      ]
     },
     "execution_count": 7,
     "metadata": {},
     "output_type": "execute_result"
    }
   ],
   "source": [
    "# Define the query\n",
    "query = \"\"\"\n",
    "MATCH (f:FACULTY)-[:INTERESTED_IN]->(k:KEYWORD)\n",
    "RETURN k.name AS k_name, count(f.name) AS f_count\n",
    "ORDER BY f_count DESC\n",
    "LIMIT 10;\n",
    "\"\"\"\n",
    "\n",
    "# Run the query and get the results\n",
    "neo4j_data = neo4j_query(query)\n",
    "neo4j_data"
   ]
  },
  {
   "cell_type": "code",
   "execution_count": 8,
   "metadata": {},
   "outputs": [
    {
     "data": {
      "text/html": [
       "<div>\n",
       "<style scoped>\n",
       "    .dataframe tbody tr th:only-of-type {\n",
       "        vertical-align: middle;\n",
       "    }\n",
       "\n",
       "    .dataframe tbody tr th {\n",
       "        vertical-align: top;\n",
       "    }\n",
       "\n",
       "    .dataframe thead th {\n",
       "        text-align: right;\n",
       "    }\n",
       "</style>\n",
       "<table border=\"1\" class=\"dataframe\">\n",
       "  <thead>\n",
       "    <tr style=\"text-align: right;\">\n",
       "      <th></th>\n",
       "      <th>k_name</th>\n",
       "      <th>f_count</th>\n",
       "    </tr>\n",
       "  </thead>\n",
       "  <tbody>\n",
       "    <tr>\n",
       "      <th>0</th>\n",
       "      <td>internet</td>\n",
       "      <td>341</td>\n",
       "    </tr>\n",
       "    <tr>\n",
       "      <th>1</th>\n",
       "      <td>processors</td>\n",
       "      <td>276</td>\n",
       "    </tr>\n",
       "    <tr>\n",
       "      <th>2</th>\n",
       "      <td>computer science</td>\n",
       "      <td>256</td>\n",
       "    </tr>\n",
       "    <tr>\n",
       "      <th>3</th>\n",
       "      <td>attacks</td>\n",
       "      <td>185</td>\n",
       "    </tr>\n",
       "    <tr>\n",
       "      <th>4</th>\n",
       "      <td>developers</td>\n",
       "      <td>183</td>\n",
       "    </tr>\n",
       "    <tr>\n",
       "      <th>5</th>\n",
       "      <td>queries</td>\n",
       "      <td>157</td>\n",
       "    </tr>\n",
       "    <tr>\n",
       "      <th>6</th>\n",
       "      <td>server</td>\n",
       "      <td>151</td>\n",
       "    </tr>\n",
       "    <tr>\n",
       "      <th>7</th>\n",
       "      <td>java</td>\n",
       "      <td>146</td>\n",
       "    </tr>\n",
       "    <tr>\n",
       "      <th>8</th>\n",
       "      <td>optimizations</td>\n",
       "      <td>146</td>\n",
       "    </tr>\n",
       "    <tr>\n",
       "      <th>9</th>\n",
       "      <td>compiler</td>\n",
       "      <td>142</td>\n",
       "    </tr>\n",
       "  </tbody>\n",
       "</table>\n",
       "</div>"
      ],
      "text/plain": [
       "             k_name  f_count\n",
       "0          internet      341\n",
       "1        processors      276\n",
       "2  computer science      256\n",
       "3           attacks      185\n",
       "4        developers      183\n",
       "5           queries      157\n",
       "6            server      151\n",
       "7              java      146\n",
       "8     optimizations      146\n",
       "9          compiler      142"
      ]
     },
     "execution_count": 8,
     "metadata": {},
     "output_type": "execute_result"
    }
   ],
   "source": [
    "\n",
    "# Function to connect to Neo4j and run the query\n",
    "def neo4j_query(query):\n",
    "    uri = \"bolt://localhost:7687\"\n",
    "    user = 'neo4j'\n",
    "    password = 'ilovecs411'\n",
    "    driver = GraphDatabase.driver(uri, auth=(user, password))\n",
    "    with driver.session(database=\"academicworld\") as session:\n",
    "        result = session.run(query)\n",
    "        data = pd.DataFrame([dict(record) for record in result])\n",
    "    driver.close()\n",
    "    return data\n",
    "\n",
    "# Define the adjusted query based on actual labels and properties\n",
    "query = \"\"\"\n",
    "MATCH (f:FACULTY)-[:INTERESTED_IN]->(k:KEYWORD)\n",
    "RETURN k.name AS k_name, count(f.name) AS f_count\n",
    "ORDER BY f_count DESC\n",
    "LIMIT 10;\n",
    "\"\"\"\n",
    "\n",
    "# Run the query and get the results\n",
    "neo4j_data = neo4j_query(query)\n",
    "neo4j_data"
   ]
  },
  {
   "cell_type": "code",
   "execution_count": 13,
   "metadata": {},
   "outputs": [
    {
     "name": "stdout",
     "output_type": "stream",
     "text": [
      "5595\n"
     ]
    },
    {
     "data": {
      "text/plain": [
       "3036"
      ]
     },
     "execution_count": 13,
     "metadata": {},
     "output_type": "execute_result"
    }
   ],
   "source": [
    "professor_query = \"\"\"\n",
    "MATCH (f:FACULTY)\n",
    "WHERE f.name IS NOT NULL AND f.name <> \"\"\n",
    "RETURN f.name AS name\n",
    "ORDER BY f.name\n",
    "\"\"\"\n",
    "professors = neo4j_query(professor_query)['name'].dropna()\n",
    "# Filter to exclude rows without letters\n",
    "professors = professors[professors.str.contains('[a-zA-Z]', regex=True)]\n",
    "print(len(professors))\n",
    "professors.head()\n",
    "\n",
    "professors.tolist().index(\"Kevin Chenchuan Chang\")"
   ]
  }
 ],
 "metadata": {
  "kernelspec": {
   "display_name": "Python 3",
   "language": "python",
   "name": "python3"
  },
  "language_info": {
   "codemirror_mode": {
    "name": "ipython",
    "version": 3
   },
   "file_extension": ".py",
   "mimetype": "text/x-python",
   "name": "python",
   "nbconvert_exporter": "python",
   "pygments_lexer": "ipython3",
   "version": "3.7.6"
  }
 },
 "nbformat": 4,
 "nbformat_minor": 2
}
