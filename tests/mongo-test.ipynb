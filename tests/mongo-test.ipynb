{
 "cells": [
  {
   "cell_type": "code",
   "execution_count": 19,
   "metadata": {},
   "outputs": [],
   "source": [
    "import pandas as pd\n",
    "from pymongo import MongoClient"
   ]
  },
  {
   "cell_type": "code",
   "execution_count": 20,
   "metadata": {},
   "outputs": [],
   "source": [
    "def mongodb_find(collection, query_filter={}, projection={}):\n",
    "    client = MongoClient(\"mongodb://localhost:27017/\")  \n",
    "    db = client[\"academicworld\"]  \n",
    "    collection = db[collection]\n",
    "    data = list(collection.find(query_filter, projection))\n",
    "    client.close()\n",
    "    return pd.DataFrame(data)"
   ]
  },
  {
   "cell_type": "code",
   "execution_count": 21,
   "metadata": {},
   "outputs": [
    {
     "name": "stdout",
     "output_type": "stream",
     "text": [
      "            name email phone\n",
      "0  Agouris,Peggy  None      \n"
     ]
    }
   ],
   "source": [
    "# Define the query filter and projection\n",
    "query_filter = {'name': 'Agouris,Peggy'}\n",
    "projection = {'_id': 0, 'name': 1, 'email': 1, 'phone': 1}  \n",
    "\n",
    "# Run the query and display the data\n",
    "df = mongodb_find(\"faculty\", query_filter, projection)\n",
    "print(df.head())"
   ]
  },
  {
   "cell_type": "code",
   "execution_count": 30,
   "metadata": {},
   "outputs": [
    {
     "data": {
      "text/plain": [
       "_id                                          666fc5fd5c96e15153dc04cf\n",
       "id                                                                  0\n",
       "name                                                    Agouris,Peggy\n",
       "position                                                      Provost\n",
       "researchInterest                                                 None\n",
       "email                                                            None\n",
       "phone                                                                \n",
       "affiliation         {'id': 0, 'name': 'College of William Mary', '...\n",
       "photoUrl            https://www.wm.edu/news/images/2019/content/ag...\n",
       "keywords            [{'id': 174, 'name': 'ontologies', 'score': 44...\n",
       "publications        [9379453, 38697786, 45886936, 72949384, 128007...\n",
       "Name: 0, dtype: object"
      ]
     },
     "execution_count": 30,
     "metadata": {},
     "output_type": "execute_result"
    }
   ],
   "source": [
    "query = {'name': 'Agouris,Peggy'}\n",
    "df = mongodb_find(\"faculty\", query_filter=query).iloc[0]\n",
    "df"
   ]
  },
  {
   "cell_type": "code",
   "execution_count": 22,
   "metadata": {},
   "outputs": [],
   "source": [
    "def mongodb_aggregate(collection, pipeline):\n",
    "    client = MongoClient(\"mongodb://localhost:27017/\")  # Replace with your MongoDB connection string\n",
    "    db = client[\"academicworld\"]  # Replace with your database name\n",
    "    collection = db[collection]\n",
    "    data = list(collection.aggregate(pipeline))\n",
    "    client.close()\n",
    "    return pd.DataFrame(data)"
   ]
  },
  {
   "cell_type": "code",
   "execution_count": 24,
   "metadata": {},
   "outputs": [
    {
     "name": "stdout",
     "output_type": "stream",
     "text": [
      "                              name email phone\n",
      "0               Abdussalam Alawini  None  None\n",
      "1               Abigail Wooldridge  None  None\n",
      "2                       Adam Bates  None  None\n",
      "3                      Alex Kirlik  None  None\n",
      "4                Alexander Schwing  None  None\n",
      "5  Andreas Paul Eberhard Kloeckner  None  None\n",
      "6                    Andrew Miller  None  None\n",
      "7                  Benjamin Cosman  None  None\n",
      "8               Bertram Ludaescher  None  None\n",
      "9                            Bo Li  None  None\n"
     ]
    }
   ],
   "source": [
    "# Define the aggregation pipeline\n",
    "pipeline = [\n",
    "    {\"$match\": {\"affiliation.name\": \"University of illinois at Urbana Champaign\"}},\n",
    "    {\"$project\": {\"_id\": 0, \"name\": 1, \"email\": 1, \"phone\": 1}},\n",
    "    {\"$sort\": {\"name\": 1}},\n",
    "    {\"$limit\": 10}\n",
    "]\n",
    "\n",
    "# Perform the aggregation query\n",
    "faculty_data = mongodb_aggregate(\"faculty\", pipeline)\n",
    "\n",
    "# Display the results\n",
    "print(faculty_data)"
   ]
  },
  {
   "cell_type": "code",
   "execution_count": 36,
   "metadata": {},
   "outputs": [
    {
     "data": {
      "text/html": [
       "<div>\n",
       "<style scoped>\n",
       "    .dataframe tbody tr th:only-of-type {\n",
       "        vertical-align: middle;\n",
       "    }\n",
       "\n",
       "    .dataframe tbody tr th {\n",
       "        vertical-align: top;\n",
       "    }\n",
       "\n",
       "    .dataframe thead th {\n",
       "        text-align: right;\n",
       "    }\n",
       "</style>\n",
       "<table border=\"1\" class=\"dataframe\">\n",
       "  <thead>\n",
       "    <tr style=\"text-align: right;\">\n",
       "      <th></th>\n",
       "      <th>_id</th>\n",
       "      <th>pub_cnt</th>\n",
       "    </tr>\n",
       "  </thead>\n",
       "  <tbody>\n",
       "    <tr>\n",
       "      <th>0</th>\n",
       "      <td>algorithms</td>\n",
       "      <td>392</td>\n",
       "    </tr>\n",
       "    <tr>\n",
       "      <th>1</th>\n",
       "      <td>internet</td>\n",
       "      <td>365</td>\n",
       "    </tr>\n",
       "    <tr>\n",
       "      <th>2</th>\n",
       "      <td>users</td>\n",
       "      <td>364</td>\n",
       "    </tr>\n",
       "    <tr>\n",
       "      <th>3</th>\n",
       "      <td>queries</td>\n",
       "      <td>290</td>\n",
       "    </tr>\n",
       "    <tr>\n",
       "      <th>4</th>\n",
       "      <td>research</td>\n",
       "      <td>289</td>\n",
       "    </tr>\n",
       "    <tr>\n",
       "      <th>5</th>\n",
       "      <td>learning</td>\n",
       "      <td>274</td>\n",
       "    </tr>\n",
       "    <tr>\n",
       "      <th>6</th>\n",
       "      <td>routing</td>\n",
       "      <td>267</td>\n",
       "    </tr>\n",
       "    <tr>\n",
       "      <th>7</th>\n",
       "      <td>attacks</td>\n",
       "      <td>259</td>\n",
       "    </tr>\n",
       "    <tr>\n",
       "      <th>8</th>\n",
       "      <td>execution</td>\n",
       "      <td>252</td>\n",
       "    </tr>\n",
       "    <tr>\n",
       "      <th>9</th>\n",
       "      <td>genome</td>\n",
       "      <td>251</td>\n",
       "    </tr>\n",
       "  </tbody>\n",
       "</table>\n",
       "</div>"
      ],
      "text/plain": [
       "          _id  pub_cnt\n",
       "0  algorithms      392\n",
       "1    internet      365\n",
       "2       users      364\n",
       "3     queries      290\n",
       "4    research      289\n",
       "5    learning      274\n",
       "6     routing      267\n",
       "7     attacks      259\n",
       "8   execution      252\n",
       "9      genome      251"
      ]
     },
     "execution_count": 36,
     "metadata": {},
     "output_type": "execute_result"
    }
   ],
   "source": [
    "# Define the aggregation pipeline\n",
    "pipeline = [\n",
    "    {\"$unwind\": \"$keywords\"},\n",
    "    {\"$match\": {\"year\": {\"$eq\": 2011}}},\n",
    "    {\"$group\": {\"_id\": \"$keywords.name\", \"pub_cnt\": {\"$sum\": 1}}},\n",
    "    {\"$sort\": {\"pub_cnt\": -1}},\n",
    "    {\"$limit\": 10}\n",
    "]\n",
    "\n",
    "# Perform the aggregation query\n",
    "publications_data = mongodb_aggregate(\"publications\", pipeline)\n",
    "publications_data"
   ]
  },
  {
   "cell_type": "code",
   "execution_count": 41,
   "metadata": {},
   "outputs": [
    {
     "data": {
      "text/plain": [
       "(0, 2021)"
      ]
     },
     "execution_count": 41,
     "metadata": {},
     "output_type": "execute_result"
    }
   ],
   "source": [
    "pipeline = [\n",
    "    {\"$group\": {\n",
    "        \"_id\": None,\n",
    "        \"min_year\": {\"$min\": \"$year\"},\n",
    "        \"max_year\": {\"$max\": \"$year\"}\n",
    "    }}\n",
    "]\n",
    "\n",
    "result = mongodb_aggregate(\"publications\", pipeline)\n",
    "min_year, max_year = result[\"min_year\"][0], result[\"max_year\"][0]\n",
    "min_year, max_year"
   ]
  },
  {
   "cell_type": "code",
   "execution_count": 52,
   "metadata": {},
   "outputs": [
    {
     "data": {
      "text/plain": [
       "(1903, 2021)"
      ]
     },
     "execution_count": 52,
     "metadata": {},
     "output_type": "execute_result"
    }
   ],
   "source": [
    "pipeline = [\n",
    "    {\"$group\": {\"_id\": \"$year\"}},\n",
    "    {\"$sort\": {\"_id\": 1}}\n",
    "]\n",
    "\n",
    "years = mongodb_aggregate(\"publications\", pipeline)\n",
    "years['_id'] = years['_id'].astype(int)\n",
    "years = years[years['_id'] >= 1900]\n",
    "min_year, max_year = years['_id'].min(), years['_id'].max() \n",
    "min_year, max_year "
   ]
  },
  {
   "cell_type": "code",
   "execution_count": null,
   "metadata": {},
   "outputs": [],
   "source": []
  }
 ],
 "metadata": {
  "kernelspec": {
   "display_name": "Python 3",
   "language": "python",
   "name": "python3"
  },
  "language_info": {
   "codemirror_mode": {
    "name": "ipython",
    "version": 3
   },
   "file_extension": ".py",
   "mimetype": "text/x-python",
   "name": "python",
   "nbconvert_exporter": "python",
   "pygments_lexer": "ipython3",
   "version": "3.7.6"
  }
 },
 "nbformat": 4,
 "nbformat_minor": 2
}
